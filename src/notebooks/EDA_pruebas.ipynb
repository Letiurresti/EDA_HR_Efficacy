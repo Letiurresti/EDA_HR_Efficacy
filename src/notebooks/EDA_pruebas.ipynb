{
 "cells": [
  {
   "attachments": {},
   "cell_type": "markdown",
   "metadata": {},
   "source": [
    "# Los patrones laborales: Análisis de Causalidad en el Rendimiento Diario y Rotación Laboral de los Trabajadores de Fábrica\n",
    "\n",
    "#### Este proyecto se centra en investigar las relaciones causales entre el rendimiento diario y la attrición de los trabajadores en el contexto de una fábrica. El dataset utilizado contiene 18 meses de datos que incluyen observaciones diarias de eventos regulares (como asistencia de los trabajadores y nivel diario de eficacia) y eventos especiales (como accidentes, terminación de empleados o incorporación de nuevos empleados).\n",
    "\n"
   ]
  },
  {
   "attachments": {},
   "cell_type": "markdown",
   "metadata": {},
   "source": [
    "### Hipótesis principal:\n",
    "\n",
    "La eficacia diaria de los trabajadores en la fábrica se ve influenciada significativamente por factores como el día de la semana, el día del mes, la edad de los trabajadores, lo que permite predecir el rendimiento.\n",
    "\n",
    "### Otras hipótesis:\n",
    "\n",
    "1. Existe una relación positiva entre el rendimiento diario de un trabajador y su probabilidad de ser contratado por una empresa competidora.\n",
    "2. Los lapsos mentales o accidentes físicos de un trabajador están asociados con un mayor riesgo de enfermedad y ausencia laboral.\n",
    "3. La eficacia de los trabajadores varía según el día de la semana, el día del mes y el mes del año, con ciertos períodos mostrando un rendimiento superior.\n",
    "4. La edad de los trabajadores influye en su eficacia diaria promedio, con los trabajadores más jóvenes y más experimentados mostrando diferencias significativas en su rendimiento.\n",
    "5. La diferencia de edad entre un trabajador y su supervisor tiene un impacto en la eficacia diaria promedio del trabajador, siendo mayor la influencia cuando la brecha de edad es mayor.\n",
    "6. Los trabajadores que colaboran principalmente con compañeros del mismo sexo muestran una eficacia diaria promedio diferente en comparación con aquellos que trabajan con compañeros del sexo opuesto.\n",
    "7. El número de comportamientos de \"trabajo en equipo\" y \"disrupción\" exhibidos por los trabajadores está relacionado con el día del mes y los niveles de estrés causados por plazos de producción inminentes.\n",
    "8. Los trabajadores pueden ser clasificados en grupos con diferentes niveles de eficacia diaria, y estos grupos pueden mostrar estabilidad o variabilidad en su rendimiento a lo largo del tiempo."
   ]
  },
  {
   "attachments": {},
   "cell_type": "markdown",
   "metadata": {},
   "source": [
    "## Exploración de datos"
   ]
  },
  {
   "cell_type": "code",
   "execution_count": 2,
   "metadata": {},
   "outputs": [
    {
     "name": "stderr",
     "output_type": "stream",
     "text": [
      "/var/folders/gn/fdryr4k17t95s1_9lf01ghfw0000gn/T/ipykernel_40010/1836966020.py:4: DtypeWarning: Columns (35,38) have mixed types. Specify dtype option on import or set low_memory=False.\n",
      "  df = pd.read_csv(\"dataset_eda.csv\", encoding='latin1')\n"
     ]
    },
    {
     "data": {
      "text/html": [
       "<div>\n",
       "<style scoped>\n",
       "    .dataframe tbody tr th:only-of-type {\n",
       "        vertical-align: middle;\n",
       "    }\n",
       "\n",
       "    .dataframe tbody tr th {\n",
       "        vertical-align: top;\n",
       "    }\n",
       "\n",
       "    .dataframe thead th {\n",
       "        text-align: right;\n",
       "    }\n",
       "</style>\n",
       "<table border=\"1\" class=\"dataframe\">\n",
       "  <thead>\n",
       "    <tr style=\"text-align: right;\">\n",
       "      <th></th>\n",
       "      <th>sub_ID</th>\n",
       "      <th>sub_fname</th>\n",
       "      <th>sub_lname</th>\n",
       "      <th>sub_age</th>\n",
       "      <th>sub_sex</th>\n",
       "      <th>sub_shift</th>\n",
       "      <th>sub_team</th>\n",
       "      <th>sub_role</th>\n",
       "      <th>sub_coll_IDs</th>\n",
       "      <th>sub_colls_same_sex_prtn</th>\n",
       "      <th>...</th>\n",
       "      <th>event_weekday_num</th>\n",
       "      <th>event_weekday_name</th>\n",
       "      <th>behav_comptype_h</th>\n",
       "      <th>behav_cause_h</th>\n",
       "      <th>actual_efficacy_h</th>\n",
       "      <th>record_comptype</th>\n",
       "      <th>record_cause</th>\n",
       "      <th>recorded_efficacy</th>\n",
       "      <th>recorded_note_from_sup</th>\n",
       "      <th>record_conf_matrix_h</th>\n",
       "    </tr>\n",
       "  </thead>\n",
       "  <tbody>\n",
       "    <tr>\n",
       "      <th>0</th>\n",
       "      <td>98000001</td>\n",
       "      <td>Rebecca</td>\n",
       "      <td>Bauer</td>\n",
       "      <td>40</td>\n",
       "      <td>F</td>\n",
       "      <td>Shift 1</td>\n",
       "      <td>Team 1</td>\n",
       "      <td>Team Leader</td>\n",
       "      <td>[98000002, 98000003, 98000004, 98000005, 98000...</td>\n",
       "      <td>0.714286</td>\n",
       "      <td>...</td>\n",
       "      <td>4</td>\n",
       "      <td>Friday</td>\n",
       "      <td>Presence</td>\n",
       "      <td>NaN</td>\n",
       "      <td>NaN</td>\n",
       "      <td>Presence</td>\n",
       "      <td>NaN</td>\n",
       "      <td>NaN</td>\n",
       "      <td>NaN</td>\n",
       "      <td>NaN</td>\n",
       "    </tr>\n",
       "    <tr>\n",
       "      <th>1</th>\n",
       "      <td>98000001</td>\n",
       "      <td>Rebecca</td>\n",
       "      <td>Bauer</td>\n",
       "      <td>40</td>\n",
       "      <td>F</td>\n",
       "      <td>Shift 1</td>\n",
       "      <td>Team 1</td>\n",
       "      <td>Team Leader</td>\n",
       "      <td>[98000002, 98000003, 98000004, 98000005, 98000...</td>\n",
       "      <td>0.714286</td>\n",
       "      <td>...</td>\n",
       "      <td>4</td>\n",
       "      <td>Friday</td>\n",
       "      <td>Efficacy</td>\n",
       "      <td>NaN</td>\n",
       "      <td>1.489</td>\n",
       "      <td>Efficacy</td>\n",
       "      <td>NaN</td>\n",
       "      <td>1.2</td>\n",
       "      <td>NaN</td>\n",
       "      <td>NaN</td>\n",
       "    </tr>\n",
       "    <tr>\n",
       "      <th>2</th>\n",
       "      <td>98000002</td>\n",
       "      <td>Joan</td>\n",
       "      <td>Winter</td>\n",
       "      <td>61</td>\n",
       "      <td>F</td>\n",
       "      <td>Shift 1</td>\n",
       "      <td>Team 2</td>\n",
       "      <td>Team Leader</td>\n",
       "      <td>[98000001, 98000003, 98000004, 98000005, 98000...</td>\n",
       "      <td>0.714286</td>\n",
       "      <td>...</td>\n",
       "      <td>4</td>\n",
       "      <td>Friday</td>\n",
       "      <td>Presence</td>\n",
       "      <td>NaN</td>\n",
       "      <td>NaN</td>\n",
       "      <td>Presence</td>\n",
       "      <td>NaN</td>\n",
       "      <td>NaN</td>\n",
       "      <td>NaN</td>\n",
       "      <td>NaN</td>\n",
       "    </tr>\n",
       "    <tr>\n",
       "      <th>3</th>\n",
       "      <td>98000002</td>\n",
       "      <td>Joan</td>\n",
       "      <td>Winter</td>\n",
       "      <td>61</td>\n",
       "      <td>F</td>\n",
       "      <td>Shift 1</td>\n",
       "      <td>Team 2</td>\n",
       "      <td>Team Leader</td>\n",
       "      <td>[98000001, 98000003, 98000004, 98000005, 98000...</td>\n",
       "      <td>0.714286</td>\n",
       "      <td>...</td>\n",
       "      <td>4</td>\n",
       "      <td>Friday</td>\n",
       "      <td>Efficacy</td>\n",
       "      <td>NaN</td>\n",
       "      <td>1.023</td>\n",
       "      <td>Efficacy</td>\n",
       "      <td>NaN</td>\n",
       "      <td>0.8</td>\n",
       "      <td>NaN</td>\n",
       "      <td>NaN</td>\n",
       "    </tr>\n",
       "    <tr>\n",
       "      <th>4</th>\n",
       "      <td>98000003</td>\n",
       "      <td>Elizabeth</td>\n",
       "      <td>Martinez</td>\n",
       "      <td>20</td>\n",
       "      <td>F</td>\n",
       "      <td>Shift 1</td>\n",
       "      <td>Team 3</td>\n",
       "      <td>Team Leader</td>\n",
       "      <td>[98000001, 98000002, 98000004, 98000005, 98000...</td>\n",
       "      <td>0.714286</td>\n",
       "      <td>...</td>\n",
       "      <td>4</td>\n",
       "      <td>Friday</td>\n",
       "      <td>Presence</td>\n",
       "      <td>NaN</td>\n",
       "      <td>NaN</td>\n",
       "      <td>Presence</td>\n",
       "      <td>NaN</td>\n",
       "      <td>NaN</td>\n",
       "      <td>NaN</td>\n",
       "      <td>NaN</td>\n",
       "    </tr>\n",
       "  </tbody>\n",
       "</table>\n",
       "<p>5 rows × 42 columns</p>\n",
       "</div>"
      ],
      "text/plain": [
       "     sub_ID  sub_fname sub_lname  sub_age sub_sex sub_shift sub_team   \n",
       "0  98000001    Rebecca     Bauer       40       F   Shift 1   Team 1  \\\n",
       "1  98000001    Rebecca     Bauer       40       F   Shift 1   Team 1   \n",
       "2  98000002       Joan    Winter       61       F   Shift 1   Team 2   \n",
       "3  98000002       Joan    Winter       61       F   Shift 1   Team 2   \n",
       "4  98000003  Elizabeth  Martinez       20       F   Shift 1   Team 3   \n",
       "\n",
       "      sub_role                                       sub_coll_IDs   \n",
       "0  Team Leader  [98000002, 98000003, 98000004, 98000005, 98000...  \\\n",
       "1  Team Leader  [98000002, 98000003, 98000004, 98000005, 98000...   \n",
       "2  Team Leader  [98000001, 98000003, 98000004, 98000005, 98000...   \n",
       "3  Team Leader  [98000001, 98000003, 98000004, 98000005, 98000...   \n",
       "4  Team Leader  [98000001, 98000002, 98000004, 98000005, 98000...   \n",
       "\n",
       "   sub_colls_same_sex_prtn  ...  event_weekday_num  event_weekday_name   \n",
       "0                 0.714286  ...                  4              Friday  \\\n",
       "1                 0.714286  ...                  4              Friday   \n",
       "2                 0.714286  ...                  4              Friday   \n",
       "3                 0.714286  ...                  4              Friday   \n",
       "4                 0.714286  ...                  4              Friday   \n",
       "\n",
       "   behav_comptype_h  behav_cause_h  actual_efficacy_h  record_comptype   \n",
       "0          Presence            NaN                NaN         Presence  \\\n",
       "1          Efficacy            NaN              1.489         Efficacy   \n",
       "2          Presence            NaN                NaN         Presence   \n",
       "3          Efficacy            NaN              1.023         Efficacy   \n",
       "4          Presence            NaN                NaN         Presence   \n",
       "\n",
       "   record_cause  recorded_efficacy recorded_note_from_sup   \n",
       "0           NaN                NaN                    NaN  \\\n",
       "1           NaN                1.2                    NaN   \n",
       "2           NaN                NaN                    NaN   \n",
       "3           NaN                0.8                    NaN   \n",
       "4           NaN                NaN                    NaN   \n",
       "\n",
       "   record_conf_matrix_h  \n",
       "0                   NaN  \n",
       "1                   NaN  \n",
       "2                   NaN  \n",
       "3                   NaN  \n",
       "4                   NaN  \n",
       "\n",
       "[5 rows x 42 columns]"
      ]
     },
     "execution_count": 2,
     "metadata": {},
     "output_type": "execute_result"
    }
   ],
   "source": [
    "import pandas as pd\n",
    "\n",
    "# Cargar el archivo CSV en un DataFrame\n",
    "df = pd.read_csv(\"dataset_eda.csv\", encoding='latin1')\n",
    "\n",
    "# Mostrar las primeras filas del DataFrame\n",
    "df.head()"
   ]
  },
  {
   "cell_type": "code",
   "execution_count": null,
   "metadata": {},
   "outputs": [],
   "source": [
    "# Borrar columnas impares"
   ]
  },
  {
   "cell_type": "code",
   "execution_count": 2,
   "metadata": {},
   "outputs": [
    {
     "name": "stdout",
     "output_type": "stream",
     "text": [
      "<class 'pandas.core.frame.DataFrame'>\n",
      "RangeIndex: 411948 entries, 0 to 411947\n",
      "Data columns (total 42 columns):\n",
      " #   Column                   Non-Null Count   Dtype  \n",
      "---  ------                   --------------   -----  \n",
      " 0   sub_ID                   411948 non-null  int64  \n",
      " 1   sub_fname                411948 non-null  object \n",
      " 2   sub_lname                411948 non-null  object \n",
      " 3   sub_age                  411948 non-null  int64  \n",
      " 4   sub_sex                  411948 non-null  object \n",
      " 5   sub_shift                411948 non-null  object \n",
      " 6   sub_team                 411948 non-null  object \n",
      " 7   sub_role                 411948 non-null  object \n",
      " 8   sub_coll_IDs             411136 non-null  object \n",
      " 9   sub_colls_same_sex_prtn  410957 non-null  float64\n",
      " 10  sub_health_h             411948 non-null  float64\n",
      " 11  sub_commitment_h         411948 non-null  float64\n",
      " 12  sub_perceptiveness_h     411948 non-null  float64\n",
      " 13  sub_dexterity_h          411948 non-null  float64\n",
      " 14  sub_sociality_h          411948 non-null  float64\n",
      " 15  sub_goodness_h           411948 non-null  float64\n",
      " 16  sub_strength_h           411948 non-null  float64\n",
      " 17  sub_openmindedness_h     411948 non-null  float64\n",
      " 18  sub_workstyle_h          411948 non-null  object \n",
      " 19  sup_ID                   411136 non-null  float64\n",
      " 20  sup_fname                411136 non-null  object \n",
      " 21  sup_lname                411136 non-null  object \n",
      " 22  sup_age                  411136 non-null  float64\n",
      " 23  sup_sub_age_diff         411136 non-null  float64\n",
      " 24  sup_sex                  411136 non-null  object \n",
      " 25  sup_role                 411136 non-null  object \n",
      " 26  sup_commitment_h         411136 non-null  float64\n",
      " 27  sup_perceptiveness_h     411136 non-null  float64\n",
      " 28  sup_goodness_h           411136 non-null  float64\n",
      " 29  event_date               411948 non-null  object \n",
      " 30  event_week_in_series     411948 non-null  int64  \n",
      " 31  event_day_in_series      411948 non-null  int64  \n",
      " 32  event_weekday_num        411948 non-null  int64  \n",
      " 33  event_weekday_name       411948 non-null  object \n",
      " 34  behav_comptype_h         411846 non-null  object \n",
      " 35  behav_cause_h            77 non-null      object \n",
      " 36  actual_efficacy_h        191657 non-null  float64\n",
      " 37  record_comptype          408010 non-null  object \n",
      " 38  record_cause             102 non-null     object \n",
      " 39  recorded_efficacy        191272 non-null  float64\n",
      " 40  recorded_note_from_sup   18589 non-null   object \n",
      " 41  record_conf_matrix_h     21715 non-null   object \n",
      "dtypes: float64(17), int64(5), object(20)\n",
      "memory usage: 132.0+ MB\n"
     ]
    }
   ],
   "source": [
    "df.info()"
   ]
  },
  {
   "cell_type": "code",
   "execution_count": 3,
   "metadata": {},
   "outputs": [
    {
     "data": {
      "text/html": [
       "<div>\n",
       "<style scoped>\n",
       "    .dataframe tbody tr th:only-of-type {\n",
       "        vertical-align: middle;\n",
       "    }\n",
       "\n",
       "    .dataframe tbody tr th {\n",
       "        vertical-align: top;\n",
       "    }\n",
       "\n",
       "    .dataframe thead th {\n",
       "        text-align: right;\n",
       "    }\n",
       "</style>\n",
       "<table border=\"1\" class=\"dataframe\">\n",
       "  <thead>\n",
       "    <tr style=\"text-align: right;\">\n",
       "      <th></th>\n",
       "      <th>sub_ID</th>\n",
       "      <th>sub_age</th>\n",
       "      <th>sub_colls_same_sex_prtn</th>\n",
       "      <th>sub_health_h</th>\n",
       "      <th>sub_commitment_h</th>\n",
       "      <th>sub_perceptiveness_h</th>\n",
       "      <th>sub_dexterity_h</th>\n",
       "      <th>sub_sociality_h</th>\n",
       "      <th>sub_goodness_h</th>\n",
       "      <th>sub_strength_h</th>\n",
       "      <th>...</th>\n",
       "      <th>sup_age</th>\n",
       "      <th>sup_sub_age_diff</th>\n",
       "      <th>sup_commitment_h</th>\n",
       "      <th>sup_perceptiveness_h</th>\n",
       "      <th>sup_goodness_h</th>\n",
       "      <th>event_week_in_series</th>\n",
       "      <th>event_day_in_series</th>\n",
       "      <th>event_weekday_num</th>\n",
       "      <th>actual_efficacy_h</th>\n",
       "      <th>recorded_efficacy</th>\n",
       "    </tr>\n",
       "  </thead>\n",
       "  <tbody>\n",
       "    <tr>\n",
       "      <th>count</th>\n",
       "      <td>4.119480e+05</td>\n",
       "      <td>411948.000000</td>\n",
       "      <td>410957.000000</td>\n",
       "      <td>411948.000000</td>\n",
       "      <td>411948.000000</td>\n",
       "      <td>411948.000000</td>\n",
       "      <td>411948.000000</td>\n",
       "      <td>411948.000000</td>\n",
       "      <td>411948.000000</td>\n",
       "      <td>411948.000000</td>\n",
       "      <td>...</td>\n",
       "      <td>411136.000000</td>\n",
       "      <td>411136.000000</td>\n",
       "      <td>411136.000000</td>\n",
       "      <td>411136.000000</td>\n",
       "      <td>411136.000000</td>\n",
       "      <td>411948.000000</td>\n",
       "      <td>411948.000000</td>\n",
       "      <td>411948.000000</td>\n",
       "      <td>191657.000000</td>\n",
       "      <td>191272.000000</td>\n",
       "    </tr>\n",
       "    <tr>\n",
       "      <th>mean</th>\n",
       "      <td>9.800036e+07</td>\n",
       "      <td>41.395637</td>\n",
       "      <td>0.502392</td>\n",
       "      <td>0.747096</td>\n",
       "      <td>0.751878</td>\n",
       "      <td>0.742695</td>\n",
       "      <td>0.741493</td>\n",
       "      <td>0.738500</td>\n",
       "      <td>0.738413</td>\n",
       "      <td>0.735608</td>\n",
       "      <td>...</td>\n",
       "      <td>39.876939</td>\n",
       "      <td>-1.525405</td>\n",
       "      <td>0.750638</td>\n",
       "      <td>0.730454</td>\n",
       "      <td>0.709282</td>\n",
       "      <td>39.509902</td>\n",
       "      <td>274.167562</td>\n",
       "      <td>2.000959</td>\n",
       "      <td>0.669063</td>\n",
       "      <td>0.668879</td>\n",
       "    </tr>\n",
       "    <tr>\n",
       "      <th>std</th>\n",
       "      <td>2.076600e+02</td>\n",
       "      <td>13.735554</td>\n",
       "      <td>0.127081</td>\n",
       "      <td>0.154026</td>\n",
       "      <td>0.147780</td>\n",
       "      <td>0.158803</td>\n",
       "      <td>0.149493</td>\n",
       "      <td>0.162415</td>\n",
       "      <td>0.146933</td>\n",
       "      <td>0.164769</td>\n",
       "      <td>...</td>\n",
       "      <td>14.081894</td>\n",
       "      <td>19.397769</td>\n",
       "      <td>0.139544</td>\n",
       "      <td>0.175733</td>\n",
       "      <td>0.161476</td>\n",
       "      <td>22.513467</td>\n",
       "      <td>157.607908</td>\n",
       "      <td>1.415252</td>\n",
       "      <td>0.396246</td>\n",
       "      <td>0.413077</td>\n",
       "    </tr>\n",
       "    <tr>\n",
       "      <th>min</th>\n",
       "      <td>9.800000e+07</td>\n",
       "      <td>18.000000</td>\n",
       "      <td>0.000000</td>\n",
       "      <td>0.153000</td>\n",
       "      <td>0.172000</td>\n",
       "      <td>0.169000</td>\n",
       "      <td>0.240000</td>\n",
       "      <td>0.152000</td>\n",
       "      <td>0.290000</td>\n",
       "      <td>0.215000</td>\n",
       "      <td>...</td>\n",
       "      <td>18.000000</td>\n",
       "      <td>-45.000000</td>\n",
       "      <td>0.437000</td>\n",
       "      <td>0.384000</td>\n",
       "      <td>0.346000</td>\n",
       "      <td>1.000000</td>\n",
       "      <td>1.000000</td>\n",
       "      <td>0.000000</td>\n",
       "      <td>0.000000</td>\n",
       "      <td>0.000000</td>\n",
       "    </tr>\n",
       "    <tr>\n",
       "      <th>25%</th>\n",
       "      <td>9.800019e+07</td>\n",
       "      <td>29.000000</td>\n",
       "      <td>0.421053</td>\n",
       "      <td>0.655000</td>\n",
       "      <td>0.653000</td>\n",
       "      <td>0.644000</td>\n",
       "      <td>0.646000</td>\n",
       "      <td>0.639000</td>\n",
       "      <td>0.635000</td>\n",
       "      <td>0.623000</td>\n",
       "      <td>...</td>\n",
       "      <td>28.000000</td>\n",
       "      <td>-17.000000</td>\n",
       "      <td>0.629000</td>\n",
       "      <td>0.659000</td>\n",
       "      <td>0.572000</td>\n",
       "      <td>20.000000</td>\n",
       "      <td>138.000000</td>\n",
       "      <td>1.000000</td>\n",
       "      <td>0.410000</td>\n",
       "      <td>0.400000</td>\n",
       "    </tr>\n",
       "    <tr>\n",
       "      <th>50%</th>\n",
       "      <td>9.800036e+07</td>\n",
       "      <td>41.000000</td>\n",
       "      <td>0.473684</td>\n",
       "      <td>0.765000</td>\n",
       "      <td>0.764000</td>\n",
       "      <td>0.763000</td>\n",
       "      <td>0.761000</td>\n",
       "      <td>0.755000</td>\n",
       "      <td>0.754000</td>\n",
       "      <td>0.760000</td>\n",
       "      <td>...</td>\n",
       "      <td>38.000000</td>\n",
       "      <td>0.000000</td>\n",
       "      <td>0.747000</td>\n",
       "      <td>0.745000</td>\n",
       "      <td>0.686000</td>\n",
       "      <td>40.000000</td>\n",
       "      <td>274.000000</td>\n",
       "      <td>2.000000</td>\n",
       "      <td>0.615000</td>\n",
       "      <td>0.600000</td>\n",
       "    </tr>\n",
       "    <tr>\n",
       "      <th>75%</th>\n",
       "      <td>9.800053e+07</td>\n",
       "      <td>53.000000</td>\n",
       "      <td>0.578947</td>\n",
       "      <td>0.859000</td>\n",
       "      <td>0.867000</td>\n",
       "      <td>0.868000</td>\n",
       "      <td>0.859000</td>\n",
       "      <td>0.864000</td>\n",
       "      <td>0.851000</td>\n",
       "      <td>0.870000</td>\n",
       "      <td>...</td>\n",
       "      <td>53.000000</td>\n",
       "      <td>13.000000</td>\n",
       "      <td>0.868000</td>\n",
       "      <td>0.909000</td>\n",
       "      <td>0.840000</td>\n",
       "      <td>59.000000</td>\n",
       "      <td>411.000000</td>\n",
       "      <td>3.000000</td>\n",
       "      <td>0.874000</td>\n",
       "      <td>0.900000</td>\n",
       "    </tr>\n",
       "    <tr>\n",
       "      <th>max</th>\n",
       "      <td>9.800079e+07</td>\n",
       "      <td>65.000000</td>\n",
       "      <td>0.789474</td>\n",
       "      <td>1.000000</td>\n",
       "      <td>1.000000</td>\n",
       "      <td>1.000000</td>\n",
       "      <td>1.000000</td>\n",
       "      <td>1.000000</td>\n",
       "      <td>1.000000</td>\n",
       "      <td>0.999000</td>\n",
       "      <td>...</td>\n",
       "      <td>62.000000</td>\n",
       "      <td>43.000000</td>\n",
       "      <td>1.000000</td>\n",
       "      <td>0.999000</td>\n",
       "      <td>0.985000</td>\n",
       "      <td>78.000000</td>\n",
       "      <td>546.000000</td>\n",
       "      <td>5.000000</td>\n",
       "      <td>3.763000</td>\n",
       "      <td>4.100000</td>\n",
       "    </tr>\n",
       "  </tbody>\n",
       "</table>\n",
       "<p>8 rows × 22 columns</p>\n",
       "</div>"
      ],
      "text/plain": [
       "             sub_ID        sub_age  sub_colls_same_sex_prtn   sub_health_h   \n",
       "count  4.119480e+05  411948.000000            410957.000000  411948.000000  \\\n",
       "mean   9.800036e+07      41.395637                 0.502392       0.747096   \n",
       "std    2.076600e+02      13.735554                 0.127081       0.154026   \n",
       "min    9.800000e+07      18.000000                 0.000000       0.153000   \n",
       "25%    9.800019e+07      29.000000                 0.421053       0.655000   \n",
       "50%    9.800036e+07      41.000000                 0.473684       0.765000   \n",
       "75%    9.800053e+07      53.000000                 0.578947       0.859000   \n",
       "max    9.800079e+07      65.000000                 0.789474       1.000000   \n",
       "\n",
       "       sub_commitment_h  sub_perceptiveness_h  sub_dexterity_h   \n",
       "count     411948.000000         411948.000000    411948.000000  \\\n",
       "mean           0.751878              0.742695         0.741493   \n",
       "std            0.147780              0.158803         0.149493   \n",
       "min            0.172000              0.169000         0.240000   \n",
       "25%            0.653000              0.644000         0.646000   \n",
       "50%            0.764000              0.763000         0.761000   \n",
       "75%            0.867000              0.868000         0.859000   \n",
       "max            1.000000              1.000000         1.000000   \n",
       "\n",
       "       sub_sociality_h  sub_goodness_h  sub_strength_h  ...        sup_age   \n",
       "count    411948.000000   411948.000000   411948.000000  ...  411136.000000  \\\n",
       "mean          0.738500        0.738413        0.735608  ...      39.876939   \n",
       "std           0.162415        0.146933        0.164769  ...      14.081894   \n",
       "min           0.152000        0.290000        0.215000  ...      18.000000   \n",
       "25%           0.639000        0.635000        0.623000  ...      28.000000   \n",
       "50%           0.755000        0.754000        0.760000  ...      38.000000   \n",
       "75%           0.864000        0.851000        0.870000  ...      53.000000   \n",
       "max           1.000000        1.000000        0.999000  ...      62.000000   \n",
       "\n",
       "       sup_sub_age_diff  sup_commitment_h  sup_perceptiveness_h   \n",
       "count     411136.000000     411136.000000         411136.000000  \\\n",
       "mean          -1.525405          0.750638              0.730454   \n",
       "std           19.397769          0.139544              0.175733   \n",
       "min          -45.000000          0.437000              0.384000   \n",
       "25%          -17.000000          0.629000              0.659000   \n",
       "50%            0.000000          0.747000              0.745000   \n",
       "75%           13.000000          0.868000              0.909000   \n",
       "max           43.000000          1.000000              0.999000   \n",
       "\n",
       "       sup_goodness_h  event_week_in_series  event_day_in_series   \n",
       "count   411136.000000         411948.000000        411948.000000  \\\n",
       "mean         0.709282             39.509902           274.167562   \n",
       "std          0.161476             22.513467           157.607908   \n",
       "min          0.346000              1.000000             1.000000   \n",
       "25%          0.572000             20.000000           138.000000   \n",
       "50%          0.686000             40.000000           274.000000   \n",
       "75%          0.840000             59.000000           411.000000   \n",
       "max          0.985000             78.000000           546.000000   \n",
       "\n",
       "       event_weekday_num  actual_efficacy_h  recorded_efficacy  \n",
       "count      411948.000000      191657.000000      191272.000000  \n",
       "mean            2.000959           0.669063           0.668879  \n",
       "std             1.415252           0.396246           0.413077  \n",
       "min             0.000000           0.000000           0.000000  \n",
       "25%             1.000000           0.410000           0.400000  \n",
       "50%             2.000000           0.615000           0.600000  \n",
       "75%             3.000000           0.874000           0.900000  \n",
       "max             5.000000           3.763000           4.100000  \n",
       "\n",
       "[8 rows x 22 columns]"
      ]
     },
     "execution_count": 3,
     "metadata": {},
     "output_type": "execute_result"
    }
   ],
   "source": [
    "df.describe()"
   ]
  },
  {
   "cell_type": "code",
   "execution_count": 4,
   "metadata": {},
   "outputs": [
    {
     "data": {
      "text/plain": [
       "(411948, 42)"
      ]
     },
     "execution_count": 4,
     "metadata": {},
     "output_type": "execute_result"
    }
   ],
   "source": [
    "df.shape"
   ]
  },
  {
   "attachments": {},
   "cell_type": "markdown",
   "metadata": {},
   "source": [
    "## Exploración de la calidad de datos"
   ]
  },
  {
   "cell_type": "code",
   "execution_count": null,
   "metadata": {},
   "outputs": [],
   "source": [
    "# Columnas:\n",
    "\n",
    "# columns = ['sub_ID', 'sub_fname', 'sub_lname', 'sub_age', 'sub_sex', 'sub_shift', 'sub_team', 'sub_role', 'sub_coll_IDs', 'sub_colls_same_sex_prtn', 'sub_health_h', 'sub_commitment_h', 'sub_perceptiveness_h', 'sub_dexterity_h', 'sub_sociality_h', 'sub_goodness_h', 'sub_strength_h', 'sub_openmindedness_h', 'sub_workstyle_h', 'sup_ID', 'sup_fname', 'sup_lname', 'sup_age', 'sup_sub_age_diff', 'sup_sex', 'sup_role', 'sup_commitment_h', 'sup_perceptiveness_h', 'sup_goodness_h', 'event_date', 'event_week_in_series', 'event_day_in_series', 'event_weekday_num', 'event_weekday_name', 'behav_comptype_h', 'behav_cause_h', 'actual_efficacy_h', 'record_comptype', 'record_cause', 'recorded_efficacy', 'recorded_note_from_sup', 'record_conf_matrix_h']\n"
   ]
  },
  {
   "cell_type": "code",
   "execution_count": 6,
   "metadata": {},
   "outputs": [
    {
     "name": "stdout",
     "output_type": "stream",
     "text": [
      "sub_ID                          0\n",
      "sub_fname                       0\n",
      "sub_lname                       0\n",
      "sub_age                         0\n",
      "sub_sex                         0\n",
      "sub_shift                       0\n",
      "sub_team                        0\n",
      "sub_role                        0\n",
      "sub_coll_IDs                  812\n",
      "sub_colls_same_sex_prtn       991\n",
      "sub_health_h                    0\n",
      "sub_commitment_h                0\n",
      "sub_perceptiveness_h            0\n",
      "sub_dexterity_h                 0\n",
      "sub_sociality_h                 0\n",
      "sub_goodness_h                  0\n",
      "sub_strength_h                  0\n",
      "sub_openmindedness_h            0\n",
      "sub_workstyle_h                 0\n",
      "sup_ID                        812\n",
      "sup_fname                     812\n",
      "sup_lname                     812\n",
      "sup_age                       812\n",
      "sup_sub_age_diff              812\n",
      "sup_sex                       812\n",
      "sup_role                      812\n",
      "sup_commitment_h              812\n",
      "sup_perceptiveness_h          812\n",
      "sup_goodness_h                812\n",
      "event_date                      0\n",
      "event_week_in_series            0\n",
      "event_day_in_series             0\n",
      "event_weekday_num               0\n",
      "event_weekday_name              0\n",
      "behav_comptype_h              102\n",
      "behav_cause_h              411871\n",
      "actual_efficacy_h          220291\n",
      "record_comptype              3938\n",
      "record_cause               411846\n",
      "recorded_efficacy          220676\n",
      "recorded_note_from_sup     393359\n",
      "record_conf_matrix_h       390233\n",
      "dtype: int64\n"
     ]
    }
   ],
   "source": [
    "columns = ['sub_ID', 'sub_fname', 'sub_lname', 'sub_age', 'sub_sex', 'sub_shift', 'sub_team', 'sub_role', 'sub_coll_IDs', 'sub_colls_same_sex_prtn', 'sub_health_h', 'sub_commitment_h', 'sub_perceptiveness_h', 'sub_dexterity_h', 'sub_sociality_h', 'sub_goodness_h', 'sub_strength_h', 'sub_openmindedness_h', 'sub_workstyle_h', 'sup_ID', 'sup_fname', 'sup_lname', 'sup_age', 'sup_sub_age_diff', 'sup_sex', 'sup_role', 'sup_commitment_h', 'sup_perceptiveness_h', 'sup_goodness_h', 'event_date', 'event_week_in_series', 'event_day_in_series', 'event_weekday_num', 'event_weekday_name', 'behav_comptype_h', 'behav_cause_h', 'actual_efficacy_h', 'record_comptype', 'record_cause', 'recorded_efficacy', 'recorded_note_from_sup', 'record_conf_matrix_h']\n",
    "\n",
    "valores_faltantes = df[columns].isnull().sum() #Exploración de los datos que faltan en el csv\n",
    "\n",
    "print(valores_faltantes)\n",
    "\n"
   ]
  },
  {
   "cell_type": "code",
   "execution_count": 7,
   "metadata": {},
   "outputs": [
    {
     "name": "stdout",
     "output_type": "stream",
     "text": [
      "Series([], Name: count, dtype: int64)\n"
     ]
    }
   ],
   "source": [
    "# Obtener la distribución de valores en una columna categórica\n",
    "\n",
    "columns = ['sub_ID', 'sub_fname', 'sub_lname', 'sub_age', 'sub_sex', 'sub_shift', 'sub_team', 'sub_role', 'sub_coll_IDs', 'sub_colls_same_sex_prtn', 'sub_health_h', 'sub_commitment_h', 'sub_perceptiveness_h', 'sub_dexterity_h', 'sub_sociality_h', 'sub_goodness_h', 'sub_strength_h', 'sub_openmindedness_h', 'sub_workstyle_h', 'sup_ID', 'sup_fname', 'sup_lname', 'sup_age', 'sup_sub_age_diff', 'sup_sex', 'sup_role', 'sup_commitment_h', 'sup_perceptiveness_h', 'sup_goodness_h', 'event_date', 'event_week_in_series', 'event_day_in_series', 'event_weekday_num', 'event_weekday_name', 'behav_comptype_h', 'behav_cause_h', 'actual_efficacy_h', 'record_comptype', 'record_cause', 'recorded_efficacy', 'recorded_note_from_sup', 'record_conf_matrix_h']\n",
    "\n",
    "value_counts = df[columns].value_counts()\n",
    "print(value_counts)\n"
   ]
  },
  {
   "cell_type": "code",
   "execution_count": 8,
   "metadata": {},
   "outputs": [],
   "source": [
    "# Rellenar valores faltantes con la media de la columna:\n",
    "\n",
    "columns = ['sub_colls_same_sex_prtn']\n",
    "for column in columns:\n",
    "    df[column].fillna(df[column].mean(), inplace=True)\n"
   ]
  },
  {
   "cell_type": "code",
   "execution_count": 9,
   "metadata": {},
   "outputs": [
    {
     "name": "stdout",
     "output_type": "stream",
     "text": [
      "sub_ID                          0\n",
      "sub_fname                       0\n",
      "sub_lname                       0\n",
      "sub_age                         0\n",
      "sub_sex                         0\n",
      "sub_shift                       0\n",
      "sub_team                        0\n",
      "sub_role                        0\n",
      "sub_coll_IDs                  812\n",
      "sub_colls_same_sex_prtn         0\n",
      "sub_health_h                    0\n",
      "sub_commitment_h                0\n",
      "sub_perceptiveness_h            0\n",
      "sub_dexterity_h                 0\n",
      "sub_sociality_h                 0\n",
      "sub_goodness_h                  0\n",
      "sub_strength_h                  0\n",
      "sub_openmindedness_h            0\n",
      "sub_workstyle_h                 0\n",
      "sup_ID                        812\n",
      "sup_fname                     812\n",
      "sup_lname                     812\n",
      "sup_age                       812\n",
      "sup_sub_age_diff              812\n",
      "sup_sex                       812\n",
      "sup_role                      812\n",
      "sup_commitment_h              812\n",
      "sup_perceptiveness_h          812\n",
      "sup_goodness_h                812\n",
      "event_date                      0\n",
      "event_week_in_series            0\n",
      "event_day_in_series             0\n",
      "event_weekday_num               0\n",
      "event_weekday_name              0\n",
      "behav_comptype_h              102\n",
      "behav_cause_h              411871\n",
      "actual_efficacy_h          220291\n",
      "record_comptype              3938\n",
      "record_cause               411846\n",
      "recorded_efficacy          220676\n",
      "recorded_note_from_sup     393359\n",
      "record_conf_matrix_h       390233\n",
      "dtype: int64\n"
     ]
    }
   ],
   "source": [
    "columns = ['sub_ID', 'sub_fname', 'sub_lname', 'sub_age', 'sub_sex', 'sub_shift', 'sub_team', 'sub_role', 'sub_coll_IDs', 'sub_colls_same_sex_prtn', 'sub_health_h', 'sub_commitment_h', 'sub_perceptiveness_h', 'sub_dexterity_h', 'sub_sociality_h', 'sub_goodness_h', 'sub_strength_h', 'sub_openmindedness_h', 'sub_workstyle_h', 'sup_ID', 'sup_fname', 'sup_lname', 'sup_age', 'sup_sub_age_diff', 'sup_sex', 'sup_role', 'sup_commitment_h', 'sup_perceptiveness_h', 'sup_goodness_h', 'event_date', 'event_week_in_series', 'event_day_in_series', 'event_weekday_num', 'event_weekday_name', 'behav_comptype_h', 'behav_cause_h', 'actual_efficacy_h', 'record_comptype', 'record_cause', 'recorded_efficacy', 'recorded_note_from_sup', 'record_conf_matrix_h']\n",
    "\n",
    "valores_faltantes = df[columns].isnull().sum()\n",
    "\n",
    "print(valores_faltantes)"
   ]
  },
  {
   "cell_type": "code",
   "execution_count": 11,
   "metadata": {},
   "outputs": [],
   "source": [
    "import pandas as pd\n",
    "\n",
    "columnas_innecesarias = ['behav_cause_h',  'record_cause', 'recorded_note_from_sup', 'record_conf_matrix_h']  # lista de columnas que no son de interés\n",
    "\n",
    "df = df.drop(columnas_innecesarias, axis=1)\n"
   ]
  },
  {
   "cell_type": "code",
   "execution_count": 12,
   "metadata": {},
   "outputs": [
    {
     "data": {
      "text/plain": [
       "(411948, 38)"
      ]
     },
     "execution_count": 12,
     "metadata": {},
     "output_type": "execute_result"
    }
   ],
   "source": [
    "df.shape"
   ]
  },
  {
   "attachments": {},
   "cell_type": "markdown",
   "metadata": {},
   "source": [
    "## Visualizaciones"
   ]
  },
  {
   "cell_type": "code",
   "execution_count": 13,
   "metadata": {},
   "outputs": [
    {
     "data": {
      "image/png": "[encoded data removed]",
      "text/plain": [
       "<Figure size 1000x600 with 1 Axes>"
      ]
     },
     "metadata": {},
     "output_type": "display_data"
    }
   ],
   "source": [
    "import matplotlib.pyplot as plt\n",
    "\n",
    "plt.figure(figsize=(10, 6))  # Tamaño de la figura\n",
    "df['sub_role'].value_counts().plot(kind='bar')  # Diagrama de barras de la columna 'sub_role'\n",
    "plt.title('Distribución de roles')  # Título del gráfico\n",
    "plt.xlabel('Roles')  # Etiqueta del eje x\n",
    "plt.ylabel('Cantidad')  # Etiqueta del eje y\n",
    "plt.show()  # Mostrar el gráfico\n"
   ]
  },
  {
   "cell_type": "code",
   "execution_count": 16,
   "metadata": {},
   "outputs": [
    {
     "data": {
      "image/png": "[encoded data removed]",
      "text/plain": [
       "<Figure size 800x600 with 1 Axes>"
      ]
     },
     "metadata": {},
     "output_type": "display_data"
    }
   ],
   "source": [
    "import matplotlib.pyplot as plt\n",
    "\n",
    "# Agrupar por día de la semana y calcular la eficacia promedio\n",
    "efficiency_by_weekday = df.groupby('event_weekday_name')['actual_efficacy_h'].mean()\n",
    "\n",
    "plt.figure(figsize=(8, 6))\n",
    "efficiency_by_weekday.plot(marker='o')\n",
    "plt.title('Eficacia Promedio por Día de la Semana')\n",
    "plt.xlabel('Día de la Semana')\n",
    "plt.ylabel('Eficacia Promedio')\n",
    "plt.xticks(range(len(efficiency_by_weekday)), efficiency_by_weekday.index)\n",
    "plt.show()\n"
   ]
  },
  {
   "cell_type": "code",
   "execution_count": 17,
   "metadata": {},
   "outputs": [
    {
     "data": {
      "image/png": "[encoded data removed]",
      "text/plain": [
       "<Figure size 1000x600 with 1 Axes>"
      ]
     },
     "metadata": {},
     "output_type": "display_data"
    }
   ],
   "source": [
    "import matplotlib.pyplot as plt\n",
    "\n",
    "# Agrupar por día del mes y calcular la eficacia promedio\n",
    "efficiency_by_day = df.groupby('event_day_in_series')['actual_efficacy_h'].mean()\n",
    "\n",
    "plt.figure(figsize=(10, 6))\n",
    "efficiency_by_day.plot(kind='bar')\n",
    "plt.title('Eficacia Promedio por Día del Mes')\n",
    "plt.xlabel('Día del Mes')\n",
    "plt.ylabel('Eficacia Promedio')\n",
    "plt.show()\n"
   ]
  },
  {
   "cell_type": "code",
   "execution_count": 18,
   "metadata": {},
   "outputs": [
    {
     "data": {
      "image/png": "[encoded data removed]",
      "text/plain": [
       "<Figure size 800x600 with 1 Axes>"
      ]
     },
     "metadata": {},
     "output_type": "display_data"
    }
   ],
   "source": [
    "import matplotlib.pyplot as plt\n",
    "\n",
    "plt.figure(figsize=(8, 6))\n",
    "plt.scatter(df['sub_age'], df['actual_efficacy_h'])\n",
    "plt.title('Relación entre Edad y Eficacia Diaria')\n",
    "plt.xlabel('Edad')\n",
    "plt.ylabel('Eficacia Diaria')\n",
    "plt.show()\n"
   ]
  },
  {
   "cell_type": "code",
   "execution_count": 4,
   "metadata": {},
   "outputs": [
    {
     "name": "stdout",
     "output_type": "stream",
     "text": [
      "             sub_age  actual_efficacy_h\n",
      "count  411948.000000      191657.000000\n",
      "mean       41.395637           0.669063\n",
      "std        13.735554           0.396246\n",
      "min        18.000000           0.000000\n",
      "25%        29.000000           0.410000\n",
      "50%        41.000000           0.615000\n",
      "75%        53.000000           0.874000\n",
      "max        65.000000           3.763000\n",
      "sub_sex            F\n",
      "sub_shift    Shift 3\n",
      "Name: 0, dtype: object\n"
     ]
    }
   ],
   "source": [
    "# Estadísticas descriptivas de las características numéricas\n",
    "numeric_columns = ['sub_age', 'actual_efficacy_h']  # Lista de las características numéricas\n",
    "\n",
    "numeric_stats = df[numeric_columns].describe()\n",
    "print(numeric_stats)\n",
    "\n",
    "# Obtener la media de las características categóricas\n",
    "categorical_columns = ['sub_sex', 'sub_shift']  # Lista de las características categóricas\n",
    "\n",
    "categorical_means = df[categorical_columns].mode().iloc[0]\n",
    "print(categorical_means)\n"
   ]
  },
  {
   "attachments": {},
   "cell_type": "markdown",
   "metadata": {},
   "source": [
    "#### La eficacia diaria de los trabajadores en la fábrica se ve influenciada significativamente por factores como el día de la semana\n"
   ]
  },
  {
   "attachments": {},
   "cell_type": "markdown",
   "metadata": {},
   "source": [
    "$$ H_0: \\mu_{0}=\\mu_{1}=\\ldots=\\mu_{n}$$\n",
    "$$ H_1: \\mu_{i}\\neq\\mu_{j} "
   ]
  },
  {
   "cell_type": "code",
   "execution_count": 9,
   "metadata": {},
   "outputs": [
    {
     "name": "stdout",
     "output_type": "stream",
     "text": [
      "event_weekday_name\n",
      "Friday       0.762517\n",
      "Monday       0.575163\n",
      "Saturday     0.803288\n",
      "Thursday     0.716595\n",
      "Tuesday      0.622929\n",
      "Wednesday    0.668053\n",
      "Name: actual_efficacy_h, dtype: float64\n"
     ]
    }
   ],
   "source": [
    "eficacia_por_dia = df.groupby('event_weekday_name')['actual_efficacy_h'].mean()\n",
    "print(eficacia_por_dia)\n"
   ]
  },
  {
   "cell_type": "code",
   "execution_count": 11,
   "metadata": {},
   "outputs": [
    {
     "name": "stdout",
     "output_type": "stream",
     "text": [
      "Estadístico F: 1103.294049428836\n",
      "Valor p: 0.0\n",
      "   Multiple Comparison of Means - Tukey HSD, FWER=0.05   \n",
      "=========================================================\n",
      " group1    group2  meandiff p-adj   lower   upper  reject\n",
      "---------------------------------------------------------\n",
      "  Friday    Monday  -0.1874    0.0 -0.1954 -0.1793   True\n",
      "  Friday  Saturday   0.0408 0.9674 -0.1043  0.1858  False\n",
      "  Friday  Thursday  -0.0459    0.0  -0.054 -0.0379   True\n",
      "  Friday   Tuesday  -0.1396    0.0 -0.1476 -0.1315   True\n",
      "  Friday Wednesday  -0.0945    0.0 -0.1025 -0.0864   True\n",
      "  Monday  Saturday   0.2281 0.0001  0.0831  0.3732   True\n",
      "  Monday  Thursday   0.1414    0.0  0.1334  0.1495   True\n",
      "  Monday   Tuesday   0.0478    0.0  0.0397  0.0558   True\n",
      "  Monday Wednesday   0.0929    0.0  0.0848  0.1009   True\n",
      "Saturday  Thursday  -0.0867 0.5296 -0.2317  0.0584  False\n",
      "Saturday   Tuesday  -0.1804 0.0053 -0.3254 -0.0353   True\n",
      "Saturday Wednesday  -0.1352 0.0841 -0.2803  0.0098  False\n",
      "Thursday   Tuesday  -0.0937    0.0 -0.1017 -0.0856   True\n",
      "Thursday Wednesday  -0.0485    0.0 -0.0566 -0.0405   True\n",
      " Tuesday Wednesday   0.0451    0.0  0.0371  0.0532   True\n",
      "---------------------------------------------------------\n"
     ]
    }
   ],
   "source": [
    "from scipy.stats import f_oneway\n",
    "from statsmodels.stats.multicomp import pairwise_tukeyhsd\n",
    "\n",
    "# Filtrar los datos relevantes\n",
    "df_filtered = df[['event_weekday_name', 'actual_efficacy_h']].dropna()\n",
    "\n",
    "# Realizar el análisis de varianza\n",
    "f_statistic, p_value = f_oneway(*[group['actual_efficacy_h'] for name, group in df_filtered.groupby('event_weekday_name')])\n",
    "\n",
    "# Resultados\n",
    "print(\"Estadístico F:\", f_statistic)\n",
    "print(\"Valor p:\", p_value)\n",
    "\n",
    "# Realizar pruebas de comparaciones múltiples (por ejemplo, prueba de Tukey)\n",
    "tukey_results = pairwise_tukeyhsd(df_filtered['actual_efficacy_h'], df_filtered['event_weekday_name'])\n",
    "print(tukey_results)\n"
   ]
  },
  {
   "attachments": {},
   "cell_type": "markdown",
   "metadata": {},
   "source": [
    "#### La eficacia diaria de los trabajadores en la fábrica se ve influenciada significativamente por el mes."
   ]
  },
  {
   "attachments": {},
   "cell_type": "markdown",
   "metadata": {},
   "source": [
    "$$ H_0: \\mu_{0}=\\mu_{1}=\\ldots=\\mu_{n}$$\n",
    "$$ H_1: \\mu_{i}\\neq\\mu_{j} "
   ]
  },
  {
   "cell_type": "code",
   "execution_count": 20,
   "metadata": {},
   "outputs": [],
   "source": [
    "# Columna \"event_date\" A formato de fecha en DataFrame\n",
    "df['event_date'] = pd.to_datetime(df['event_date'])"
   ]
  },
  {
   "cell_type": "code",
   "execution_count": 21,
   "metadata": {},
   "outputs": [],
   "source": [
    "monthly_efficacy = df.groupby(df['event_date'].dt.month)['actual_efficacy_h'].mean()\n"
   ]
  },
  {
   "cell_type": "code",
   "execution_count": 25,
   "metadata": {},
   "outputs": [
    {
     "data": {
      "text/plain": [
       "event_date\n",
       "1     0.737374\n",
       "2     0.697193\n",
       "3     0.680368\n",
       "4     0.666269\n",
       "5     0.618168\n",
       "6     0.602380\n",
       "7     0.609496\n",
       "8     0.629876\n",
       "9     0.664551\n",
       "10    0.689002\n",
       "11    0.697783\n",
       "12    0.754446\n",
       "Name: actual_efficacy_h, dtype: float64"
      ]
     },
     "execution_count": 25,
     "metadata": {},
     "output_type": "execute_result"
    }
   ],
   "source": [
    "monthly_efficacy"
   ]
  },
  {
   "cell_type": "code",
   "execution_count": 27,
   "metadata": {},
   "outputs": [],
   "source": [
    "import pandas as pd\n",
    "\n",
    "# Convertir la columna \"event_date\" al formato de fecha\n",
    "df['event_date'] = pd.to_datetime(df['event_date'])\n",
    "\n",
    "# Crear la columna \"mes\" que contiene el mes de la fecha\n",
    "df['mes'] = df['event_date'].dt.month\n",
    "\n",
    "\n"
   ]
  },
  {
   "cell_type": "code",
   "execution_count": 3,
   "metadata": {},
   "outputs": [
    {
     "data": {
      "text/plain": [
       "0          1/1/2021\n",
       "1          1/1/2021\n",
       "2          1/1/2021\n",
       "3          1/1/2021\n",
       "4          1/1/2021\n",
       "            ...    \n",
       "411943    6/30/2022\n",
       "411944    6/30/2022\n",
       "411945    6/30/2022\n",
       "411946    6/30/2022\n",
       "411947    6/30/2022\n",
       "Name: event_date, Length: 411948, dtype: object"
      ]
     },
     "execution_count": 3,
     "metadata": {},
     "output_type": "execute_result"
    }
   ],
   "source": [
    "df['event_date']"
   ]
  },
  {
   "cell_type": "code",
   "execution_count": 28,
   "metadata": {},
   "outputs": [
    {
     "name": "stdout",
     "output_type": "stream",
     "text": [
      "Estadístico F: 244.47138456593294\n",
      "Valor p: 0.0\n"
     ]
    }
   ],
   "source": [
    "# Filtrar los datos relevantes\n",
    "df_filtered = df[['mes', 'actual_efficacy_h']].dropna()\n",
    "\n",
    "# Realizar el análisis de varianza\n",
    "f_statistic, p_value = f_oneway(*[group['actual_efficacy_h'] for name, group in df_filtered.groupby('mes')])\n",
    "\n",
    "# Resultados\n",
    "print(\"Estadístico F:\", f_statistic)\n",
    "print(\"Valor p:\", p_value)"
   ]
  },
  {
   "cell_type": "code",
   "execution_count": 29,
   "metadata": {},
   "outputs": [
    {
     "name": "stdout",
     "output_type": "stream",
     "text": [
      "Estadístico F: 244.47138456593294\n",
      "Valor p: 0.0\n",
      "Multiple Comparison of Means - Tukey HSD, FWER=0.05 \n",
      "====================================================\n",
      "group1 group2 meandiff p-adj   lower   upper  reject\n",
      "----------------------------------------------------\n",
      "     1      2  -0.0402    0.0  -0.053 -0.0274   True\n",
      "     1      3   -0.057    0.0 -0.0694 -0.0446   True\n",
      "     1      4  -0.0711    0.0 -0.0837 -0.0585   True\n",
      "     1      5  -0.1192    0.0 -0.1318 -0.1066   True\n",
      "     1      6   -0.135    0.0 -0.1475 -0.1225   True\n",
      "     1      7  -0.1279    0.0 -0.1431 -0.1126   True\n",
      "     1      8  -0.1075    0.0 -0.1228 -0.0922   True\n",
      "     1      9  -0.0728    0.0 -0.0881 -0.0576   True\n",
      "     1     10  -0.0484    0.0 -0.0639 -0.0328   True\n",
      "     1     11  -0.0396    0.0 -0.0549 -0.0243   True\n",
      "     1     12   0.0171 0.0114   0.002  0.0321   True\n",
      "     2      3  -0.0168 0.0007 -0.0294 -0.0043   True\n",
      "     2      4  -0.0309    0.0 -0.0437 -0.0182   True\n",
      "     2      5   -0.079    0.0 -0.0918 -0.0663   True\n",
      "     2      6  -0.0948    0.0 -0.1075 -0.0821   True\n",
      "     2      7  -0.0877    0.0 -0.1031 -0.0723   True\n",
      "     2      8  -0.0673    0.0 -0.0827 -0.0519   True\n",
      "     2      9  -0.0326    0.0  -0.048 -0.0172   True\n",
      "     2     10  -0.0082 0.8641 -0.0238  0.0075  False\n",
      "     2     11   0.0006    1.0 -0.0148   0.016  False\n",
      "     2     12   0.0573    0.0  0.0421  0.0724   True\n",
      "     3      4  -0.0141 0.0099 -0.0264 -0.0018   True\n",
      "     3      5  -0.0622    0.0 -0.0745 -0.0499   True\n",
      "     3      6   -0.078    0.0 -0.0902 -0.0658   True\n",
      "     3      7  -0.0709    0.0 -0.0859 -0.0558   True\n",
      "     3      8  -0.0505    0.0 -0.0655 -0.0355   True\n",
      "     3      9  -0.0158 0.0291 -0.0309 -0.0008   True\n",
      "     3     10   0.0086 0.7933 -0.0067  0.0239  False\n",
      "     3     11   0.0174 0.0085  0.0024  0.0325   True\n",
      "     3     12   0.0741    0.0  0.0593  0.0889   True\n",
      "     4      5  -0.0481    0.0 -0.0606 -0.0356   True\n",
      "     4      6  -0.0639    0.0 -0.0763 -0.0515   True\n",
      "     4      7  -0.0568    0.0  -0.072 -0.0416   True\n",
      "     4      8  -0.0364    0.0 -0.0516 -0.0212   True\n",
      "     4      9  -0.0017    1.0 -0.0169  0.0135  False\n",
      "     4     10   0.0227 0.0001  0.0073  0.0382   True\n",
      "     4     11   0.0315    0.0  0.0163  0.0467   True\n",
      "     4     12   0.0882    0.0  0.0732  0.1032   True\n",
      "     5      6  -0.0158  0.002 -0.0282 -0.0034   True\n",
      "     5      7  -0.0087 0.7816 -0.0239  0.0065  False\n",
      "     5      8   0.0117 0.3277 -0.0035  0.0269  False\n",
      "     5      9   0.0464    0.0  0.0312  0.0616   True\n",
      "     5     10   0.0708    0.0  0.0554  0.0863   True\n",
      "     5     11   0.0796    0.0  0.0644  0.0948   True\n",
      "     5     12   0.1363    0.0  0.1213  0.1513   True\n",
      "     6      7   0.0071 0.9309  -0.008  0.0223  False\n",
      "     6      8   0.0275    0.0  0.0124  0.0426   True\n",
      "     6      9   0.0622    0.0   0.047  0.0773   True\n",
      "     6     10   0.0866    0.0  0.0712   0.102   True\n",
      "     6     11   0.0954    0.0  0.0803  0.1105   True\n",
      "     6     12   0.1521    0.0  0.1371   0.167   True\n",
      "     7      8   0.0204 0.0077  0.0029  0.0379   True\n",
      "     7      9   0.0551    0.0  0.0376  0.0725   True\n",
      "     7     10   0.0795    0.0  0.0618  0.0972   True\n",
      "     7     11   0.0883    0.0  0.0708  0.1058   True\n",
      "     7     12    0.145    0.0  0.1276  0.1623   True\n",
      "     8      9   0.0347    0.0  0.0172  0.0522   True\n",
      "     8     10   0.0591    0.0  0.0414  0.0768   True\n",
      "     8     11   0.0679    0.0  0.0504  0.0854   True\n",
      "     8     12   0.1246    0.0  0.1073  0.1419   True\n",
      "     9     10   0.0245 0.0004  0.0067  0.0422   True\n",
      "     9     11   0.0332    0.0  0.0157  0.0507   True\n",
      "     9     12   0.0899    0.0  0.0726  0.1072   True\n",
      "    10     11   0.0088 0.9024 -0.0089  0.0265  False\n",
      "    10     12   0.0654    0.0  0.0479   0.083   True\n",
      "    11     12   0.0567    0.0  0.0394   0.074   True\n",
      "----------------------------------------------------\n"
     ]
    }
   ],
   "source": [
    "from scipy.stats import f_oneway\n",
    "from statsmodels.stats.multicomp import pairwise_tukeyhsd\n",
    "\n",
    "# Filtrar los datos relevantes\n",
    "df_filtered = df[['mes', 'actual_efficacy_h']].dropna()\n",
    "\n",
    "# Crear una lista de arrays con los valores de eficacia para cada mes\n",
    "months = df_filtered['mes'].unique()\n",
    "efficacy_by_month = [df_filtered[df_filtered['mes'] == month]['actual_efficacy_h'] for month in months]\n",
    "\n",
    "# Realizar el análisis de varianza\n",
    "f_statistic, p_value = f_oneway(*efficacy_by_month)\n",
    "\n",
    "# Realizar pruebas de comparaciones múltiples (Tukey)\n",
    "tukey_results = pairwise_tukeyhsd(np.concatenate(efficacy_by_month), np.concatenate([[month]*len(arr) for month, arr in zip(months, efficacy_by_month)]))\n",
    "\n",
    "# Resultados\n",
    "print(\"Estadístico F:\", f_statistic)\n",
    "print(\"Valor p:\", p_value)\n",
    "\n",
    "print(tukey_results)\n"
   ]
  },
  {
   "attachments": {},
   "cell_type": "markdown",
   "metadata": {},
   "source": [
    "#### La eficacia diaria de los trabajadores en la fábrica se ve influenciada significativamente por factores como la quincena del mes."
   ]
  },
  {
   "attachments": {},
   "cell_type": "markdown",
   "metadata": {},
   "source": [
    "$$ H_0: \\mu_{0}=\\mu_{1}=\\ldots=\\mu_{n}$$\n",
    "$$ H_1: \\mu_{i}\\neq\\mu_{j} "
   ]
  },
  {
   "cell_type": "code",
   "execution_count": 15,
   "metadata": {},
   "outputs": [
    {
     "name": "stdout",
     "output_type": "stream",
     "text": [
      "0          1\n",
      "1          1\n",
      "2          1\n",
      "3          1\n",
      "4          1\n",
      "          ..\n",
      "411943    78\n",
      "411944    78\n",
      "411945    78\n",
      "411946    78\n",
      "411947    78\n",
      "Name: event_week_in_series, Length: 411948, dtype: int64\n"
     ]
    }
   ],
   "source": [
    "event_day_in_series_column = df['event_week_in_series']\n",
    "\n",
    "print(event_day_in_series_column)"
   ]
  },
  {
   "attachments": {},
   "cell_type": "markdown",
   "metadata": {},
   "source": [
    "#### La eficacia diaria de los trabajadores en la fábrica se ve influenciada significativamente por factores como la edad de los trabajadores.\n"
   ]
  },
  {
   "attachments": {},
   "cell_type": "markdown",
   "metadata": {},
   "source": [
    "$$ H_0: \\mu_{0}=\\mu_{1}=\\ldots=\\mu_{n}$$\n",
    "$$ H_1: \\mu_{i}\\neq\\mu_{j} "
   ]
  },
  {
   "cell_type": "code",
   "execution_count": 30,
   "metadata": {},
   "outputs": [
    {
     "name": "stdout",
     "output_type": "stream",
     "text": [
      "Estadístico F: 1538.465041662819\n",
      "Valor p: 0.0\n"
     ]
    }
   ],
   "source": [
    "from scipy.stats import f_oneway\n",
    "\n",
    "df_filtered = df[['sub_age', 'actual_efficacy_h']].dropna()\n",
    "\n",
    "# Dividir los datos en grupos por edad\n",
    "age_groups = [df_filtered[df_filtered['sub_age'] <= 30]['actual_efficacy_h'],\n",
    "              df_filtered[(df_filtered['sub_age'] > 30) & (df_filtered['sub_age'] <= 40)]['actual_efficacy_h'],\n",
    "              df_filtered[(df_filtered['sub_age'] > 40) & (df_filtered['sub_age'] <= 50)]['actual_efficacy_h'],\n",
    "              df_filtered[df_filtered['sub_age'] > 50]['actual_efficacy_h']]\n",
    "\n",
    "# Realizar el análisis de varianza (ANOVA)\n",
    "f_statistic, p_value = f_oneway(*age_groups)\n",
    "\n",
    "print(\"Estadístico F:\", f_statistic)\n",
    "print(\"Valor p:\", p_value)\n"
   ]
  },
  {
   "cell_type": "code",
   "execution_count": 31,
   "metadata": {},
   "outputs": [
    {
     "name": "stdout",
     "output_type": "stream",
     "text": [
      "Estadístico F: 1538.465041662819\n",
      "Valor p: 0.0\n",
      "Multiple Comparison of Means - Tukey HSD, FWER=0.05\n",
      "==================================================\n",
      "group1 group2 meandiff p-adj lower   upper  reject\n",
      "--------------------------------------------------\n",
      "     1      2   0.0821   0.0 0.0755  0.0888   True\n",
      "     1      3   0.1628   0.0  0.156  0.1695   True\n",
      "     1      4   0.1254   0.0 0.1194  0.1314   True\n",
      "     2      3   0.0806   0.0 0.0735  0.0877   True\n",
      "     2      4   0.0433   0.0 0.0368  0.0497   True\n",
      "     3      4  -0.0374   0.0 -0.044 -0.0308   True\n",
      "--------------------------------------------------\n"
     ]
    }
   ],
   "source": [
    "from scipy.stats import f_oneway\n",
    "from statsmodels.stats.multicomp import pairwise_tukeyhsd\n",
    "\n",
    "# Realizar pruebas de comparaciones múltiples (Tukey)\n",
    "tukey_results = pairwise_tukeyhsd(np.concatenate(age_groups), np.concatenate([[i+1]*len(age_groups[i]) for i in range(len(age_groups))]))\n",
    "\n",
    "# Resultados\n",
    "print(\"Estadístico F:\", f_statistic)\n",
    "print(\"Valor p:\", p_value)\n",
    "\n",
    "print(tukey_results)\n"
   ]
  },
  {
   "cell_type": "code",
   "execution_count": null,
   "metadata": {},
   "outputs": [],
   "source": []
  }
 ],
 "metadata": {
  "kernelspec": {
   "display_name": "ramp_up_py395",
   "language": "python",
   "name": "python3"
  },
  "language_info": {
   "codemirror_mode": {
    "name": "ipython",
    "version": 3
   },
   "file_extension": ".py",
   "mimetype": "text/x-python",
   "name": "python",
   "nbconvert_exporter": "python",
   "pygments_lexer": "ipython3",
   "version": "3.9.5"
  },
  "orig_nbformat": 4
 },
 "nbformat": 4,
 "nbformat_minor": 2
}
